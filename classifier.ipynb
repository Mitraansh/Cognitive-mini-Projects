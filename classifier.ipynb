{
 "cells": [
  {
   "cell_type": "code",
   "execution_count": null,
   "metadata": {},
   "outputs": [
    {
     "name": "stdout",
     "output_type": "stream",
     "text": [
      "Found 37500 images belonging to 2 classes.\n",
      " 343/1000 [=========>....................] - ETA: 3:49 - loss: 0.6426 - accuracy: 0.6681"
     ]
    }
   ],
   "source": [
    "# -*- coding: utf-8 -*-\n",
    "\"\"\"\n",
    "Created on Wed Jun 13 17:03:32 2018\n",
    "@author: yatheen!\n",
    "    \n",
    "\"\"\"\n",
    "#13 Steps to build CNN\n",
    "\n",
    "#Step 1: Import the required packages\n",
    "\n",
    "from keras.models import Sequential\n",
    "from keras.layers import Conv2D\n",
    "from keras.layers import MaxPooling2D\n",
    "from keras.layers import Flatten\n",
    "from keras.layers import Dense\n",
    "\n",
    "# Step 2: Initialising the CNN\n",
    "model = Sequential()\n",
    "\n",
    "# Step 3: Convolution\n",
    "model.add(Conv2D(32, (3, 3), input_shape = (50, 50, 3), activation = 'relu'))\n",
    "\n",
    "# Step 4: Pooling\n",
    "model.add(MaxPooling2D(pool_size = (2, 2)))\n",
    "\n",
    "# Step 5: Second convolutional layer\n",
    "model.add(Conv2D(32, (3, 3), activation = 'relu'))\n",
    "model.add(MaxPooling2D(pool_size = (2, 2)))\n",
    "\n",
    "# Step 6: Flattening\n",
    "model.add(Flatten())\n",
    "\n",
    "# Step 7: Full connection\n",
    "model.add(Dense(units = 128, activation = 'relu'))\n",
    "model.add(Dense(units = 1, activation = 'sigmoid'))\n",
    "\n",
    "# Step 8: Compiling the CNN\n",
    "model.compile(optimizer = 'adam', loss = 'binary_crossentropy', metrics = ['accuracy'])\n",
    "\n",
    "# Step 9: ImageDataGenerator\n",
    "from keras.preprocessing.image import ImageDataGenerator\n",
    "\n",
    "train_datagen = ImageDataGenerator(rescale = 1./255,\n",
    "                                   shear_range = 0.2,\n",
    "                                   zoom_range = 0.2,\n",
    "                                   horizontal_flip = True)\n",
    "\n",
    "# Step 10: Load the training Set\n",
    "train = train_datagen.flow_from_directory('D:\\\\Python3.7\\\\Cognitive mini projects\\\\Dataset',\n",
    "                                                 target_size = (50, 50),\n",
    "                                                 batch_size = 32,\n",
    "                                                 class_mode = 'binary')\n",
    "# Step 11: Classifier Training \n",
    "model.fit(train,\n",
    "                         steps_per_epoch = 1000,\n",
    "                         epochs = 1,\n",
    "                         validation_steps = 2000)\n",
    "\n",
    "# Step 12: Convert the Model to json\n",
    "model_json = model.to_json()\n",
    "with open(\"./model.json\",\"w\") as json_file:\n",
    "  json_file.write(model_json)\n",
    "\n",
    "# Step 13: Save the weights in a seperate file\n",
    "model.save_weights(\"./model.h5\")\n",
    "\n",
    "print(\"Classifier trained Successfully!\")"
   ]
  },
  {
   "cell_type": "code",
   "execution_count": null,
   "metadata": {},
   "outputs": [],
   "source": []
  },
  {
   "cell_type": "code",
   "execution_count": null,
   "metadata": {},
   "outputs": [],
   "source": []
  }
 ],
 "metadata": {
  "kernelspec": {
   "display_name": "Python 3",
   "language": "python",
   "name": "python3"
  },
  "language_info": {
   "codemirror_mode": {
    "name": "ipython",
    "version": 3
   },
   "file_extension": ".py",
   "mimetype": "text/x-python",
   "name": "python",
   "nbconvert_exporter": "python",
   "pygments_lexer": "ipython3",
   "version": "3.8.5"
  }
 },
 "nbformat": 4,
 "nbformat_minor": 4
}
