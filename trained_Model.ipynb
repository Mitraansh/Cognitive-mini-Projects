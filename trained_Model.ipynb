{
 "cells": [
  {
   "cell_type": "code",
   "execution_count": null,
   "metadata": {},
   "outputs": [
    {
     "name": "stdout",
     "output_type": "stream",
     "text": [
      "Loaded model from disk\n"
     ]
    }
   ],
   "source": [
    "# -*- coding: utf-8 -*-\n",
    "\"\"\"\n",
    "Created on Wed Jun 20 13:09:22 2018\n",
    "@author: yatheen!\n",
    "\"\"\"\n",
    "\n",
    "# Step 1: Import the packages\n",
    "from tensorflow.keras.models import model_from_json\n",
    "import cv2\n",
    "import numpy as np\n",
    "\n",
    "# Step 2: Load the Model from Json File\n",
    "json_file = open('./model.json', 'r')\n",
    "loaded_model_json = json_file.read()\n",
    "json_file.close()\n",
    "loaded_model = model_from_json(loaded_model_json)\n",
    "\n",
    "# Step 3: Load the weights\n",
    "loaded_model.load_weights(\"./model.h5\")\n",
    "print(\"Loaded model from disk\")\n",
    "\n",
    "# Step 4: Compile the model\n",
    "loaded_model.compile(optimizer = 'adam', loss = 'binary_crossentropy', metrics = ['accuracy'])\n",
    "\n",
    "# Step 5: load the image you want to test\n",
    "image = cv2.imread('D:\\\\Python3.7\\\\Cognitive mini projects\\\\Dataset\\\\test1\\\\2.jpg')\n",
    "image1 = cv2.resize(image, (50,50))\n",
    "image2 = image1.reshape(1, 50, 50, 3)\n",
    "\n",
    "cv2.imshow(\"Input Image\", image)\n",
    "cv2.waitKey(0)\n",
    "cv2.destroyAllWindows()\n",
    "# Step 6: Predict to which class your input image has been classified\n",
    "result = loaded_model.predict_classes(image)\n",
    "if(result[0][0] == 1):\n",
    "    print(\"I guess this must be a Dog!\")\n",
    "else:\n",
    "    print(\"I guess this must be a Cat!\")"
   ]
  },
  {
   "cell_type": "code",
   "execution_count": null,
   "metadata": {},
   "outputs": [],
   "source": []
  },
  {
   "cell_type": "code",
   "execution_count": null,
   "metadata": {},
   "outputs": [],
   "source": []
  }
 ],
 "metadata": {
  "kernelspec": {
   "display_name": "Python 3",
   "language": "python",
   "name": "python3"
  },
  "language_info": {
   "codemirror_mode": {
    "name": "ipython",
    "version": 3
   },
   "file_extension": ".py",
   "mimetype": "text/x-python",
   "name": "python",
   "nbconvert_exporter": "python",
   "pygments_lexer": "ipython3",
   "version": "3.8.5"
  }
 },
 "nbformat": 4,
 "nbformat_minor": 4
}
